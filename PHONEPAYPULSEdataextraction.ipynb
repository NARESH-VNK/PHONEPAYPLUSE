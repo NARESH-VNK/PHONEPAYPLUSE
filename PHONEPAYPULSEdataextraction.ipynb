{
  "nbformat": 4,
  "nbformat_minor": 0,
  "metadata": {
    "colab": {
      "provenance": [],
      "authorship_tag": "ABX9TyNApU7SXEDAnx8SwP28/CUF",
      "include_colab_link": true
    },
    "kernelspec": {
      "name": "python3",
      "display_name": "Python 3"
    },
    "language_info": {
      "name": "python"
    }
  },
  "cells": [
    {
      "cell_type": "markdown",
      "metadata": {
        "id": "view-in-github",
        "colab_type": "text"
      },
      "source": [
        "<a href=\"https://colab.research.google.com/github/NARESH-VNK/PHONEPAYPLUSE/blob/main/PHONEPAYPULSEdataextraction.ipynb\" target=\"_parent\"><img src=\"https://colab.research.google.com/assets/colab-badge.svg\" alt=\"Open In Colab\"/></a>"
      ]
    },
    {
      "cell_type": "code",
      "execution_count": null,
      "metadata": {
        "id": "VeLy9PFOgLDC"
      },
      "outputs": [],
      "source": [
        "!git clone https://github.com/PhonePe/pulse.git"
      ]
    },
    {
      "cell_type": "code",
      "source": [
        "import pandas as pd\n",
        "import json\n",
        "import os"
      ],
      "metadata": {
        "id": "-J4HDTlhgfm2"
      },
      "execution_count": 1,
      "outputs": []
    },
    {
      "cell_type": "markdown",
      "source": [
        "# AGGREGATED TRANSACTION AND USER"
      ],
      "metadata": {
        "id": "AllUzCcymh3t"
      }
    },
    {
      "cell_type": "code",
      "source": [
        "# aggregated transaction\n",
        "\n",
        "path_aggts=(\"/content/pulse/data/aggregated/transaction/country/india/state/\")\n",
        "agg_state_list=os.listdir(path_aggts)\n",
        "\n",
        "\n",
        "#------------------------------------------------------------------------------------------\n",
        "agg_trs_table = {\"State\":[],'Year':[],'Quater':[],'Transcation_type' :[],'Transaction_count':[],'Transaction_amount':[]}\n",
        "\n",
        "for i in agg_state_list:\n",
        "  p_i=path_aggts+i+\"/\"\n",
        "  agg_yr= os.listdir(p_i)\n",
        "  for j in agg_yr:\n",
        "    p_j=p_i+j+\"/\"\n",
        "    agg_yr_list=os.listdir(p_j)\n",
        "    for k in agg_yr_list:\n",
        "      p_k=p_j+k\n",
        "      data=open(p_k,\"r\")\n",
        "      d=json.load(data)\n",
        "      for z in d['data']['transactionData']:\n",
        "       Name=z[\"name\"]\n",
        "       count=z['paymentInstruments'][0]['count']\n",
        "       amount=z['paymentInstruments'][0]['amount']\n",
        "       agg_trs_table['Transcation_type'].append(Name)\n",
        "       agg_trs_table['Transaction_count'].append(count)\n",
        "       agg_trs_table['Transaction_amount'].append(amount)\n",
        "       agg_trs_table['State'].append(i)\n",
        "       agg_trs_table['Year'].append(j)\n",
        "       agg_trs_table['Quater'].append(int(k.strip('.json')))\n",
        "\n",
        "Agg_Trans_df = pd.DataFrame(agg_trs_table)\n",
        "Agg_Trans_df"
      ],
      "metadata": {
        "id": "miRE4tbKgffe"
      },
      "execution_count": null,
      "outputs": []
    },
    {
      "cell_type": "code",
      "source": [
        "# aggregated user\n",
        "from numpy import NaN\n",
        "path_agg_us=(\"/content/pulse/data/aggregated/user/country/india/state/\")\n",
        "agg_state_us_list=os.listdir(path_agg_us)\n",
        "agg_state_us_list\n",
        "\n",
        "# -------------------------------------------------------------------------\n",
        "agg_usr_table = {\"State\":[],'Year':[],'Quater':[],'Registered User':[],'AppOpens':[],'Brand' :[],'Count':[],'Percentage':[]}\n",
        "agg = {'Brand' :[],'Count':[],'Percentage':[]}\n",
        "\n",
        "for i in agg_state_us_list:\n",
        "  p_i=path_agg_us+i+\"/\"\n",
        "  agg_us_yr= os.listdir(p_i)\n",
        "  for j in agg_us_yr:\n",
        "    p_j=p_i+j+\"/\"\n",
        "    agg_yr_list=os.listdir(p_j)\n",
        "    for k in agg_yr_list:\n",
        "      a = []\n",
        "      p_k=p_j+k\n",
        "      data=open(p_k,\"r\")\n",
        "      d=json.load(data)\n",
        "      #print([d])\n",
        "      for m in [d['data']['usersByDevice']]:\n",
        "        if d['data']['usersByDevice']!=None:\n",
        "          brand= d['data']['usersByDevice']\n",
        "          counts =  d['data']['usersByDevice']\n",
        "          percentages =  d['data']['usersByDevice']\n",
        "          for items in brand:\n",
        "            agg_usr_table['Brand'].append(items['brand'])\n",
        "          for items in counts:\n",
        "            agg_usr_table['Count'].append(items['count'])\n",
        "          for items in percentages:\n",
        "            agg_usr_table['Percentage'].append(items['percentage'])\n",
        "        if d['data']['usersByDevice']==None:\n",
        "          v=0\n",
        "          while v<11:\n",
        "            brands = NaN\n",
        "            counts = NaN\n",
        "            percentages = NaN\n",
        "            agg_usr_table['Brand'].append(brands)\n",
        "            agg_usr_table['Count'].append(counts)\n",
        "            agg_usr_table['Percentage'].append(percentages)\n",
        "            v=v+1\n",
        "      n=0\n",
        "      while n<11:\n",
        "        for z in [d['data']]:\n",
        "          reguser = d['data']['aggregated']['registeredUsers']\n",
        "          appopens = d['data']['aggregated']['appOpens']\n",
        "          agg_usr_table['Registered User'].append(reguser)\n",
        "          agg_usr_table['AppOpens'].append(appopens)\n",
        "          agg_usr_table['State'].append(i)\n",
        "          agg_usr_table['Year'].append(j)\n",
        "          agg_usr_table['Quater'].append(int(k.strip('.json')))\n",
        "          n=n+1\n",
        "                    \n",
        "agg_usr_df= pd.DataFrame(agg_usr_table)\n",
        "agg_usr_df.drop_duplicates(keep=\"first\",inplace=True)\n",
        "agg_usr_df"
      ],
      "metadata": {
        "id": "5Xm-S_CUhapd"
      },
      "execution_count": null,
      "outputs": []
    },
    {
      "cell_type": "markdown",
      "source": [
        "# MAP TRANSACTION AND USER"
      ],
      "metadata": {
        "id": "aPihqbLumbBc"
      }
    },
    {
      "cell_type": "code",
      "source": [
        "\n",
        "# map transaction\n",
        "path_map_trs=(\"/content/pulse/data/map/transaction/hover/country/india/state/\")\n",
        "map_state_trs_list=os.listdir(path_map_trs)\n",
        "map_state_trs_list\n",
        "\n",
        "# -------------------------------------------------------------------------\n",
        "map_trs_table= {\"State\":[],'Year':[],'Quater':[],'District' :[],'Total counts':[],'Amount':[]}\n",
        "\n",
        "for i in map_state_trs_list:\n",
        "  p_i=path_map_trs+i+\"/\"\n",
        "  map_trs_yr= os.listdir(p_i)\n",
        "  for j in map_trs_yr:\n",
        "    p_j=p_i+j+\"/\"\n",
        "    map_yr_list=os.listdir(p_j)\n",
        "    for k in map_yr_list:\n",
        "      p_k=p_j+k\n",
        "      data=open(p_k,\"r\")\n",
        "      d=json.load(data)\n",
        "      for z in d[\"data\"]['hoverDataList']:\n",
        "        names = z['name']\n",
        "        totalcount =z['metric'][0]['count']\n",
        "        amount = z['metric'][0]['amount']\n",
        "        map_trs_table['State'].append(i)\n",
        "        map_trs_table['Year'].append(j)\n",
        "        map_trs_table['Quater'].append(int(k.strip('.json')))\n",
        "        map_trs_table['Total counts'].append(totalcount)\n",
        "        map_trs_table['Amount'].append(amount)\n",
        "        map_trs_table['District'].append(names)\n",
        "pd.set_option('display.max_rows', None)\n",
        "pd.set_option('display.max_columns', None)\n",
        "\n",
        "\n",
        "map_trs_df = pd.DataFrame(map_trs_table)\n",
        "map_trs_df"
      ],
      "metadata": {
        "id": "vJrYZAsihahO"
      },
      "execution_count": null,
      "outputs": []
    },
    {
      "cell_type": "code",
      "source": [
        "\n",
        "# map user\n",
        "path_map_usr=(\"/content/pulse/data/map/user/hover/country/india/state/\")\n",
        "map_state_usr_list=os.listdir(path_map_usr)\n",
        "map_state_usr_list\n",
        "\n",
        "# # -------------------------------------------------------------------------\n",
        "map_usr_table = {\"State\":[],'Year':[],'Quater':[],'District' :[],'Registered User':[],'AppOpens':[]}\n",
        "\n",
        "for i in map_state_usr_list:\n",
        "  p_i=path_map_usr+i+\"/\"\n",
        "  map_usr_yr= os.listdir(p_i)\n",
        "  for j in map_usr_yr:\n",
        "    p_j=p_i+j+\"/\"\n",
        "    map_usr_yr_list=os.listdir(p_j)\n",
        "    for k in map_usr_yr_list:\n",
        "      p_k=p_j+k\n",
        "      data=open(p_k,\"r\")\n",
        "      d=json.load(data)\n",
        "      for z in d['data']['hoverData']:\n",
        "        names = z\n",
        "        registereduser =  d['data']['hoverData'][z]['registeredUsers']\n",
        "        appopens = d['data']['hoverData'][z]['appOpens']\n",
        "        map_usr_table['State'].append(i)\n",
        "        map_usr_table['Year'].append(j)\n",
        "        map_usr_table['Quater'].append(int(k.strip('.json')))\n",
        "        map_usr_table['District'].append(names)\n",
        "        map_usr_table['Registered User'].append(registereduser)\n",
        "        map_usr_table['AppOpens'].append(appopens)\n",
        "\n",
        "\n",
        "\n",
        "map_usr_df = pd.DataFrame(map_usr_table)\n",
        "map_usr_df"
      ],
      "metadata": {
        "id": "JKZzt0u5iFI9"
      },
      "execution_count": null,
      "outputs": []
    },
    {
      "cell_type": "markdown",
      "source": [
        "# TOP USER BY DISTRICT AND PINCODE"
      ],
      "metadata": {
        "id": "svMzl7k-k4js"
      }
    },
    {
      "cell_type": "code",
      "source": [
        "# top user district\n",
        "path_top_usr=(\"/content/pulse/data/top/user/country/india/state/\")\n",
        "top_state_usr_list=os.listdir(path_top_usr)\n",
        "top_state_usr_list\n",
        "\n",
        "# # -------------------------------------------------------------------------\n",
        "top_usr_table = {\"State\":[],'Year':[],'Quater':[],'District':[],\"Registered user\":[]}\n",
        "top_usr_table1 = {\"State\":[],'Year':[],'Quater':[],'Pincode_Name':[],\"Pincode_Registered user\":[]}\n",
        "for i in top_state_usr_list:\n",
        "  p_i=path_top_usr+i+\"/\"\n",
        "  top_usr_yr= os.listdir(p_i)\n",
        "  for j in top_usr_yr:\n",
        "    p_j=p_i+j+\"/\"\n",
        "    top_usr_yr_list=os.listdir(p_j)\n",
        "    for k in top_usr_yr_list:\n",
        "      p_k=p_j+k\n",
        "      data=open(p_k,\"r\")\n",
        "      d=json.load(data)\n",
        "      for z in d['data']['districts']:\n",
        "        district = z['name']\n",
        "        registereduser = z['registeredUsers']\n",
        "        top_usr_table['State'].append(i)\n",
        "        top_usr_table['Year'].append(j)\n",
        "        top_usr_table['Quater'].append(int(k.strip('.json')))\n",
        "        top_usr_table['District'].append(district)\n",
        "        top_usr_table['Registered user'].append(registereduser)\n",
        "        \n",
        "top_usr_df = pd.DataFrame(top_usr_table)\n",
        "top_usr_df "
      ],
      "metadata": {
        "id": "f0xa7iRqk4Q9"
      },
      "execution_count": null,
      "outputs": []
    },
    {
      "cell_type": "code",
      "source": [
        "# top user pincode\n",
        "path_top_usr=(\"/content/pulse/data/top/user/country/india/state/\")\n",
        "top_state_usr_list=os.listdir(path_top_usr)\n",
        "top_state_usr_list\n",
        "\n",
        "# # -------------------------------------------------------------------------\n",
        "\n",
        "top_usr_table = {\"State\":[],'Year':[],'Quater':[],'Pincode_Name':[],\"Pincode_Registered user\":[]}\n",
        "for i in top_state_usr_list:\n",
        "  p_i=path_top_usr+i+\"/\"\n",
        "  top_usr_yr= os.listdir(p_i)\n",
        "  for j in top_usr_yr:\n",
        "    p_j=p_i+j+\"/\"\n",
        "    top_usr_yr_list=os.listdir(p_j)\n",
        "    for k in top_usr_yr_list:\n",
        "      p_k=p_j+k\n",
        "      data=open(p_k,\"r\")\n",
        "      d=json.load(data)\n",
        "      for m in d['data']['pincodes']:\n",
        "        pincode=(m['name'])\n",
        "        p_registeruser= (m['registeredUsers'])\n",
        "        top_usr_table['State'].append(i)\n",
        "        top_usr_table['Year'].append(j)\n",
        "        top_usr_table['Quater'].append(int(k.strip('.json')))\n",
        "        top_usr_table['Pincode_Name'].append(pincode)\n",
        "        top_usr_table['Pincode_Registered user'].append(p_registeruser)\n",
        "        \n",
        "df_user_pincode = pd.DataFrame(top_usr_table)\n",
        "df_user_pincode"
      ],
      "metadata": {
        "id": "fUuShba1lOuk"
      },
      "execution_count": null,
      "outputs": []
    },
    {
      "cell_type": "code",
      "source": [
        "# top transaction PINCODE\n",
        "path_top_trs=(\"/content/pulse/data/top/transaction/country/india/state/\")\n",
        "top_state_trs_list=os.listdir(path_top_trs)\n",
        "top_state_trs_list\n",
        "\n",
        "# -------------------------------------------------------------------------\n",
        "top_trs_table= {\"State\":[],'Year':[],'Quater':[],'Pincode_Name':[],\"Pincode_Count\":[],'Pincode_Amount':[]}\n",
        "t =  {'Pincode_Name':[],\"Pincode_Count\":[],'Pincode_Amount':[]}\n",
        "for i in top_state_trs_list:\n",
        "  p_i=path_top_trs+i+\"/\"\n",
        "  top_trs_yr= os.listdir(p_i)\n",
        "  for j in top_trs_yr:\n",
        "    p_j=p_i+j+\"/\"\n",
        "    top_trs_yr_list=os.listdir(p_j)\n",
        "    for k in top_trs_yr_list:\n",
        "      p_k=p_j+k\n",
        "      data=open(p_k,\"r\")\n",
        "      d=json.load(data)\n",
        "      a=[]\n",
        "      for n in d[\"data\"]['pincodes']:\n",
        "        pincode= n['entityName']\n",
        "        p_count = n['metric'][\"count\"]\n",
        "        p_amount =n['metric'][\"amount\"]\n",
        "        # print(len(pincode))\n",
        "        top_trs_table['Pincode_Name'].append(pincode)\n",
        "        top_trs_table['Pincode_Count'].append(p_count)\n",
        "        top_trs_table['Pincode_Amount'].append(p_amount)\n",
        "        top_trs_table['State'].append(i)\n",
        "        top_trs_table['Year'].append(j)\n",
        "        top_trs_table['Quater'].append(int(k.strip('.json')))\n",
        "        a.append(pincode)\n",
        "       \n",
        "\n",
        "        \n",
        "pd.set_option('display.max_rows', None)\n",
        "pd.set_option('display.max_columns', None)\n",
        "\n",
        "top_trs_df = pd.DataFrame(top_trs_table)\n",
        "top_trs_df1=top_trs_df.fillna(194105)\n",
        "top_trs_df1"
      ],
      "metadata": {
        "id": "JEldmZixlvg-"
      },
      "execution_count": null,
      "outputs": []
    },
    {
      "cell_type": "code",
      "source": [
        "# top transaction DS\n",
        "path_top_trs=(\"/content/pulse/data/top/transaction/country/india/state/\")\n",
        "top_state_trs_list=os.listdir(path_top_trs)\n",
        "top_state_trs_list\n",
        "\n",
        "# -------------------------------------------------------------------------\n",
        "top_trs_table= {\"State\":[],'Year':[],'Quater':[],'District' :[],'Total counts':[],'Amount':[]}#,'Pincode_Name':[],\"Pincode_Count\":[],'Pincode_Amount':[]}\n",
        "\n",
        "for i in top_state_trs_list:\n",
        "  p_i=path_top_trs+i+\"/\"\n",
        "  top_trs_yr= os.listdir(p_i)\n",
        "  for j in top_trs_yr:\n",
        "    p_j=p_i+j+\"/\"\n",
        "    top_trs_yr_list=os.listdir(p_j)\n",
        "    for k in top_trs_yr_list:\n",
        "      p_k=p_j+k\n",
        "      data=open(p_k,\"r\")\n",
        "      d=json.load(data)\n",
        "      # print(d)\n",
        "      for z in d[\"data\"]['districts']:\n",
        "        entityname = z['entityName']\n",
        "        count = z['metric'][\"count\"]\n",
        "        amounts =z['metric'][\"amount\"]\n",
        "        top_trs_table['State'].append(i)\n",
        "        top_trs_table['Year'].append(j)\n",
        "        top_trs_table['Quater'].append(int(k.strip('.json')))\n",
        "        top_trs_table['Total counts'].append(count)\n",
        "        top_trs_table['District'].append(entityname)\n",
        "        top_trs_table['Amount'].append(amounts)\n",
        "      \n",
        "top_trs_ds_df= pd.DataFrame(top_trs_table)\n",
        "top_trs_ds_df"
      ],
      "metadata": {
        "id": "q5pOySCDlvbd"
      },
      "execution_count": null,
      "outputs": []
    }
  ]
}